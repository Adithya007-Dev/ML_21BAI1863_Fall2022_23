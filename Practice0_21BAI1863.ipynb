{
  "nbformat": 4,
  "nbformat_minor": 0,
  "metadata": {
    "colab": {
      "provenance": []
    },
    "kernelspec": {
      "name": "python3",
      "display_name": "Python 3"
    },
    "language_info": {
      "name": "python"
    }
  },
  "cells": [
    {
      "cell_type": "markdown",
      "source": [
        "**Practice Only No Copy and Paste from any sources.**"
      ],
      "metadata": {
        "id": "TdtNBw496_8q"
      }
    },
    {
      "cell_type": "markdown",
      "source": [
        "#Read the dataset (propertydata.csv) and identify the columns and their datatype"
      ],
      "metadata": {
        "id": "Si2g52Jq7Hny"
      }
    },
    {
      "cell_type": "code",
      "execution_count": 2,
      "metadata": {
        "id": "Iajrj0S731GJ",
        "colab": {
          "base_uri": "https://localhost:8080/"
        },
        "outputId": "4608b3fd-0ab4-4273-cf7c-babf91adcb76"
      },
      "outputs": [
        {
          "output_type": "stream",
          "name": "stdout",
          "text": [
            "Index(['PID', 'ST_NUM', 'ST_NAME', 'OWN_OCCUPIED', 'NUM_BEDROOMS', 'NUM_BATH',\n",
            "       'SQ_FT'],\n",
            "      dtype='object') \n",
            " PID             float64\n",
            "ST_NUM          float64\n",
            "ST_NAME          object\n",
            "OWN_OCCUPIED     object\n",
            "NUM_BEDROOMS     object\n",
            "NUM_BATH         object\n",
            "SQ_FT            object\n",
            "dtype: object\n"
          ]
        }
      ],
      "source": [
        "import pandas as pd\n",
        "csv=pd.read_csv(\"/content/propertydata.csv\")\n",
        "df=pd.DataFrame(csv);\n",
        "#print(df)\n",
        "df_col=df.columns\n",
        "df_dt=df.dtypes\n",
        "print(df_col,\"\\n\",df_dt)"
      ]
    },
    {
      "cell_type": "markdown",
      "source": [
        "#Describe the dataset"
      ],
      "metadata": {
        "id": "kBxJozwL7TPi"
      }
    },
    {
      "cell_type": "code",
      "source": [
        "df.describe()"
      ],
      "metadata": {
        "id": "FWsDXv6Z7YIx",
        "colab": {
          "base_uri": "https://localhost:8080/",
          "height": 300
        },
        "outputId": "28a6e66e-cf86-4915-88f8-1159006f65fc"
      },
      "execution_count": null,
      "outputs": [
        {
          "output_type": "execute_result",
          "data": {
            "text/plain": [
              "                PID      ST_NUM\n",
              "count  8.000000e+00    7.000000\n",
              "mean   1.000050e+08  191.428571\n",
              "std    2.927700e+03   39.080503\n",
              "min    1.000010e+08  104.000000\n",
              "25%    1.000028e+08  199.000000\n",
              "50%    1.000050e+08  203.000000\n",
              "75%    1.000072e+08  210.000000\n",
              "max    1.000090e+08  215.000000"
            ],
            "text/html": [
              "\n",
              "  <div id=\"df-ffd6c6a1-3f22-4bf2-ad3c-445cdeddaaa7\">\n",
              "    <div class=\"colab-df-container\">\n",
              "      <div>\n",
              "<style scoped>\n",
              "    .dataframe tbody tr th:only-of-type {\n",
              "        vertical-align: middle;\n",
              "    }\n",
              "\n",
              "    .dataframe tbody tr th {\n",
              "        vertical-align: top;\n",
              "    }\n",
              "\n",
              "    .dataframe thead th {\n",
              "        text-align: right;\n",
              "    }\n",
              "</style>\n",
              "<table border=\"1\" class=\"dataframe\">\n",
              "  <thead>\n",
              "    <tr style=\"text-align: right;\">\n",
              "      <th></th>\n",
              "      <th>PID</th>\n",
              "      <th>ST_NUM</th>\n",
              "    </tr>\n",
              "  </thead>\n",
              "  <tbody>\n",
              "    <tr>\n",
              "      <th>count</th>\n",
              "      <td>8.000000e+00</td>\n",
              "      <td>7.000000</td>\n",
              "    </tr>\n",
              "    <tr>\n",
              "      <th>mean</th>\n",
              "      <td>1.000050e+08</td>\n",
              "      <td>191.428571</td>\n",
              "    </tr>\n",
              "    <tr>\n",
              "      <th>std</th>\n",
              "      <td>2.927700e+03</td>\n",
              "      <td>39.080503</td>\n",
              "    </tr>\n",
              "    <tr>\n",
              "      <th>min</th>\n",
              "      <td>1.000010e+08</td>\n",
              "      <td>104.000000</td>\n",
              "    </tr>\n",
              "    <tr>\n",
              "      <th>25%</th>\n",
              "      <td>1.000028e+08</td>\n",
              "      <td>199.000000</td>\n",
              "    </tr>\n",
              "    <tr>\n",
              "      <th>50%</th>\n",
              "      <td>1.000050e+08</td>\n",
              "      <td>203.000000</td>\n",
              "    </tr>\n",
              "    <tr>\n",
              "      <th>75%</th>\n",
              "      <td>1.000072e+08</td>\n",
              "      <td>210.000000</td>\n",
              "    </tr>\n",
              "    <tr>\n",
              "      <th>max</th>\n",
              "      <td>1.000090e+08</td>\n",
              "      <td>215.000000</td>\n",
              "    </tr>\n",
              "  </tbody>\n",
              "</table>\n",
              "</div>\n",
              "      <button class=\"colab-df-convert\" onclick=\"convertToInteractive('df-ffd6c6a1-3f22-4bf2-ad3c-445cdeddaaa7')\"\n",
              "              title=\"Convert this dataframe to an interactive table.\"\n",
              "              style=\"display:none;\">\n",
              "        \n",
              "  <svg xmlns=\"http://www.w3.org/2000/svg\" height=\"24px\"viewBox=\"0 0 24 24\"\n",
              "       width=\"24px\">\n",
              "    <path d=\"M0 0h24v24H0V0z\" fill=\"none\"/>\n",
              "    <path d=\"M18.56 5.44l.94 2.06.94-2.06 2.06-.94-2.06-.94-.94-2.06-.94 2.06-2.06.94zm-11 1L8.5 8.5l.94-2.06 2.06-.94-2.06-.94L8.5 2.5l-.94 2.06-2.06.94zm10 10l.94 2.06.94-2.06 2.06-.94-2.06-.94-.94-2.06-.94 2.06-2.06.94z\"/><path d=\"M17.41 7.96l-1.37-1.37c-.4-.4-.92-.59-1.43-.59-.52 0-1.04.2-1.43.59L10.3 9.45l-7.72 7.72c-.78.78-.78 2.05 0 2.83L4 21.41c.39.39.9.59 1.41.59.51 0 1.02-.2 1.41-.59l7.78-7.78 2.81-2.81c.8-.78.8-2.07 0-2.86zM5.41 20L4 18.59l7.72-7.72 1.47 1.35L5.41 20z\"/>\n",
              "  </svg>\n",
              "      </button>\n",
              "      \n",
              "  <style>\n",
              "    .colab-df-container {\n",
              "      display:flex;\n",
              "      flex-wrap:wrap;\n",
              "      gap: 12px;\n",
              "    }\n",
              "\n",
              "    .colab-df-convert {\n",
              "      background-color: #E8F0FE;\n",
              "      border: none;\n",
              "      border-radius: 50%;\n",
              "      cursor: pointer;\n",
              "      display: none;\n",
              "      fill: #1967D2;\n",
              "      height: 32px;\n",
              "      padding: 0 0 0 0;\n",
              "      width: 32px;\n",
              "    }\n",
              "\n",
              "    .colab-df-convert:hover {\n",
              "      background-color: #E2EBFA;\n",
              "      box-shadow: 0px 1px 2px rgba(60, 64, 67, 0.3), 0px 1px 3px 1px rgba(60, 64, 67, 0.15);\n",
              "      fill: #174EA6;\n",
              "    }\n",
              "\n",
              "    [theme=dark] .colab-df-convert {\n",
              "      background-color: #3B4455;\n",
              "      fill: #D2E3FC;\n",
              "    }\n",
              "\n",
              "    [theme=dark] .colab-df-convert:hover {\n",
              "      background-color: #434B5C;\n",
              "      box-shadow: 0px 1px 3px 1px rgba(0, 0, 0, 0.15);\n",
              "      filter: drop-shadow(0px 1px 2px rgba(0, 0, 0, 0.3));\n",
              "      fill: #FFFFFF;\n",
              "    }\n",
              "  </style>\n",
              "\n",
              "      <script>\n",
              "        const buttonEl =\n",
              "          document.querySelector('#df-ffd6c6a1-3f22-4bf2-ad3c-445cdeddaaa7 button.colab-df-convert');\n",
              "        buttonEl.style.display =\n",
              "          google.colab.kernel.accessAllowed ? 'block' : 'none';\n",
              "\n",
              "        async function convertToInteractive(key) {\n",
              "          const element = document.querySelector('#df-ffd6c6a1-3f22-4bf2-ad3c-445cdeddaaa7');\n",
              "          const dataTable =\n",
              "            await google.colab.kernel.invokeFunction('convertToInteractive',\n",
              "                                                     [key], {});\n",
              "          if (!dataTable) return;\n",
              "\n",
              "          const docLinkHtml = 'Like what you see? Visit the ' +\n",
              "            '<a target=\"_blank\" href=https://colab.research.google.com/notebooks/data_table.ipynb>data table notebook</a>'\n",
              "            + ' to learn more about interactive tables.';\n",
              "          element.innerHTML = '';\n",
              "          dataTable['output_type'] = 'display_data';\n",
              "          await google.colab.output.renderOutput(dataTable, element);\n",
              "          const docLink = document.createElement('div');\n",
              "          docLink.innerHTML = docLinkHtml;\n",
              "          element.appendChild(docLink);\n",
              "        }\n",
              "      </script>\n",
              "    </div>\n",
              "  </div>\n",
              "  "
            ]
          },
          "metadata": {},
          "execution_count": 5
        }
      ]
    },
    {
      "cell_type": "markdown",
      "source": [
        "#Display the street number (ST_NUM) and check any NaN values."
      ],
      "metadata": {
        "id": "NB0q16cj7ZSJ"
      }
    },
    {
      "cell_type": "code",
      "source": [
        "print(df.loc[:,\"ST_NUM\"])\n",
        "print(\"There are \",df['ST_NUM'].isna().sum(),\" NAN values\")"
      ],
      "metadata": {
        "id": "VPJ4Cwjo7caJ",
        "colab": {
          "base_uri": "https://localhost:8080/"
        },
        "outputId": "ea6da94b-1702-4536-eee8-dab0e792f6f1"
      },
      "execution_count": 7,
      "outputs": [
        {
          "output_type": "stream",
          "name": "stdout",
          "text": [
            "0    104.0\n",
            "1    197.0\n",
            "2      NaN\n",
            "3    201.0\n",
            "4    203.0\n",
            "5    207.0\n",
            "6      NaN\n",
            "7    213.0\n",
            "8    215.0\n",
            "Name: ST_NUM, dtype: float64\n",
            "There are  2  NAN values\n"
          ]
        }
      ]
    },
    {
      "cell_type": "markdown",
      "source": [
        "#Print the number of bedrooms (NUM_BEDROOMS) and check any NaN values."
      ],
      "metadata": {
        "id": "CokzCgHC7e7R"
      }
    },
    {
      "cell_type": "code",
      "source": [
        "print(df['NUM_BEDROOMS'])\n",
        "print(\"There are \",df['NUM_BEDROOMS'].isna().sum(),\" NAN values\")"
      ],
      "metadata": {
        "id": "q62kzcwp7jJJ",
        "colab": {
          "base_uri": "https://localhost:8080/"
        },
        "outputId": "e4bd6a86-0692-4ccc-d51d-fd5cbacabe3e"
      },
      "execution_count": 6,
      "outputs": [
        {
          "output_type": "stream",
          "name": "stdout",
          "text": [
            "0      3\n",
            "1      3\n",
            "2    NaN\n",
            "3      1\n",
            "4      3\n",
            "5    NaN\n",
            "6      2\n",
            "7      1\n",
            "8     na\n",
            "Name: NUM_BEDROOMS, dtype: object\n",
            "There are  2  NAN values\n"
          ]
        }
      ]
    },
    {
      "cell_type": "markdown",
      "source": [
        "#There are few missing values like [\"n/a\", \"na\",  \"--\"] Apply some technique to replace these values with NaN."
      ],
      "metadata": {
        "id": "yuUap3Q87kRK"
      }
    },
    {
      "cell_type": "code",
      "source": [
        "bv=[\"n/a\",\"na\",\"--\"]\n",
        "df_new=pd.read_csv(\"/content/propertydata.csv\",na_values=bv);\n",
        "print(df_new)"
      ],
      "metadata": {
        "id": "GBl24Vpt7o4B",
        "colab": {
          "base_uri": "https://localhost:8080/"
        },
        "outputId": "be35ced4-f7ca-4ddd-88f8-0a275010ca56"
      },
      "execution_count": 9,
      "outputs": [
        {
          "output_type": "stream",
          "name": "stdout",
          "text": [
            "           PID  ST_NUM     ST_NAME OWN_OCCUPIED  NUM_BEDROOMS NUM_BATH   SQ_FT\n",
            "0  100001000.0   104.0      PUTNAM            Y           3.0        1  1000.0\n",
            "1  100002000.0   197.0   LEXINGTON            N           3.0      1.5     NaN\n",
            "2  100003000.0     NaN   LEXINGTON            N           NaN        1   850.0\n",
            "3  100004000.0   201.0    BERKELEY           12           1.0      NaN   700.0\n",
            "4          NaN   203.0    BERKELEY            Y           3.0        2  1600.0\n",
            "5  100006000.0   207.0    BERKELEY            Y           NaN        1   800.0\n",
            "6  100007000.0     NaN  WASHINGTON          NaN           2.0   HURLEY   950.0\n",
            "7  100008000.0   213.0     TREMONT            Y           1.0        1     NaN\n",
            "8  100009000.0   215.0     TREMONT            Y           NaN        2  1800.0\n"
          ]
        }
      ]
    },
    {
      "cell_type": "markdown",
      "source": [
        "#Fill the ST_NUM by the maximum number of houses in a particular street"
      ],
      "metadata": {
        "id": "GAGe_VkX7wiK"
      }
    },
    {
      "cell_type": "code",
      "source": [
        "df2 = df_new.dropna(subset=['ST_NUM'])\n",
        "house_count = df2.groupby('ST_NUM')['PID'].nunique()\n",
        "max_houses = house_count.max()\n",
        "print(max_houses)\n",
        "\n"
      ],
      "metadata": {
        "id": "FIRyyGzc71W3",
        "colab": {
          "base_uri": "https://localhost:8080/"
        },
        "outputId": "81325b66-2a88-459e-f592-4d5299c568ed"
      },
      "execution_count": 21,
      "outputs": [
        {
          "output_type": "stream",
          "name": "stdout",
          "text": [
            "2\n"
          ]
        }
      ]
    }
  ]
}